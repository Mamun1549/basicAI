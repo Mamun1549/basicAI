{
  "nbformat": 4,
  "nbformat_minor": 0,
  "metadata": {
    "colab": {
      "name": "Untitled0.ipynb",
      "provenance": [],
      "authorship_tag": "ABX9TyM87B8nISr/Zk+k2Db7UkEL",
      "include_colab_link": true
    },
    "kernelspec": {
      "name": "python3",
      "display_name": "Python 3"
    }
  },
  "cells": [
    {
      "cell_type": "markdown",
      "metadata": {
        "id": "view-in-github",
        "colab_type": "text"
      },
      "source": [
        "<a href=\"https://colab.research.google.com/github/Mamun1549/basicAI/blob/master/todolist.ipynb\" target=\"_parent\"><img src=\"https://colab.research.google.com/assets/colab-badge.svg\" alt=\"Open In Colab\"/></a>"
      ]
    },
    {
      "cell_type": "markdown",
      "metadata": {
        "id": "ITnVAgWBFyys",
        "colab_type": "text"
      },
      "source": [
        "#Todo list"
      ]
    },
    {
      "cell_type": "code",
      "metadata": {
        "id": "BYlyHMKcF4wv",
        "colab_type": "code",
        "colab": {
          "base_uri": "https://localhost:8080/",
          "height": 192
        },
        "outputId": "24e6a7ba-1bb0-483d-fe09-adb29193af78"
      },
      "source": [
        "data = []\n",
        "choice = 'random'\n",
        "\n",
        "def line():\n",
        "    print('---------------------------')\n",
        "\n",
        "def show_menu():\n",
        "    line()\n",
        "    print('MENU')\n",
        "    line()\n",
        "    print('1. Add item')\n",
        "    print('2. Mark as done')\n",
        "    print('3. View list')\n",
        "    print('4. Exit')\n",
        "    line()\n",
        "    choice = input('Enter your choice: ')\n",
        "    return choice\n",
        "\n",
        "while choice != '4':\n",
        "    choice = show_menu()\n",
        "    if choice == '1':\n",
        "        item = input('What is to be done? ')\n",
        "        data.append(item)\n",
        "        print('Item', item, 'added')\n",
        "    elif choice == '2':\n",
        "        item = input('What is to be marked as done? ')\n",
        "        if item in data:\n",
        "            data.remove(item)\n",
        "            print('Removed item', item)\n",
        "        else:\n",
        "            print('Could not find item', item)\n",
        "    elif choice == '3':\n",
        "        print('List of to-do items:')\n",
        "        for item in data:\n",
        "            print(item)\n",
        "    elif choice == '4':\n",
        "        print('Goodbye!')\n",
        "    else:\n",
        "        print('Please enter one of 1, 2, 3 or 4')"
      ],
      "execution_count": null,
      "outputs": [
        {
          "output_type": "stream",
          "text": [
            "---------------------------\n",
            "MENU\n",
            "---------------------------\n",
            "1. Add item\n",
            "2. Mark as done\n",
            "3. View list\n",
            "4. Exit\n",
            "---------------------------\n"
          ],
          "name": "stdout"
        }
      ]
    }
  ]
}